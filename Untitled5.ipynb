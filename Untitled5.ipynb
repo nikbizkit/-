{
  "nbformat": 4,
  "nbformat_minor": 0,
  "metadata": {
    "colab": {
      "provenance": [],
      "authorship_tag": "ABX9TyMdyBrPx9YigQSEuU9Nga76",
      "include_colab_link": true
    },
    "kernelspec": {
      "name": "python3",
      "display_name": "Python 3"
    },
    "language_info": {
      "name": "python"
    }
  },
  "cells": [
    {
      "cell_type": "markdown",
      "metadata": {
        "id": "view-in-github",
        "colab_type": "text"
      },
      "source": [
        "<a href=\"https://colab.research.google.com/github/nikbizkit/-/blob/master/Untitled5.ipynb\" target=\"_parent\"><img src=\"https://colab.research.google.com/assets/colab-badge.svg\" alt=\"Open In Colab\"/></a>"
      ]
    },
    {
      "cell_type": "code",
      "execution_count": 1,
      "metadata": {
        "id": "dnyh6SutME8S"
      },
      "outputs": [],
      "source": [
        "import pandas as pd"
      ]
    },
    {
      "cell_type": "code",
      "source": [
        "df2 = pd.read_excel('228.xlsx')"
      ],
      "metadata": {
        "id": "MjR3j02YM9nV"
      },
      "execution_count": 2,
      "outputs": []
    },
    {
      "cell_type": "code",
      "source": [
        "df1 = pd.read_excel('229.xlsx')"
      ],
      "metadata": {
        "id": "nxG9zFKbNL9x"
      },
      "execution_count": 3,
      "outputs": []
    },
    {
      "cell_type": "code",
      "source": [
        "df = pd.merge(df1, df2, on=['Размер'])"
      ],
      "metadata": {
        "id": "foUH3N6zNVQd"
      },
      "execution_count": 5,
      "outputs": []
    },
    {
      "cell_type": "code",
      "source": [
        "df_output = df[['Баркод', 'Остаток (шт.)']]"
      ],
      "metadata": {
        "id": "JI4FZ3teNeq5"
      },
      "execution_count": 7,
      "outputs": []
    },
    {
      "cell_type": "code",
      "source": [
        "df_output.to_excel('output.xlsx', index=False)"
      ],
      "metadata": {
        "id": "yYhB9bIKNqv8"
      },
      "execution_count": 8,
      "outputs": []
    }
  ]
}